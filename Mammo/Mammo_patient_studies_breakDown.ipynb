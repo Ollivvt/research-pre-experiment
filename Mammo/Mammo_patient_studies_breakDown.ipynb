{
 "cells": [
  {
   "cell_type": "code",
   "execution_count": 1,
   "metadata": {},
   "outputs": [],
   "source": [
    "import pandas as pd"
   ]
  },
  {
   "cell_type": "code",
   "execution_count": 2,
   "metadata": {},
   "outputs": [
    {
     "name": "stderr",
     "output_type": "stream",
     "text": [
      "C:\\Users\\yuting.tseng\\AppData\\Local\\Temp\\ipykernel_18472\\1285036749.py:2: DtypeWarning: Columns (3) have mixed types. Specify dtype option on import or set low_memory=False.\n",
      "  df = pd.read_csv(r'U:\\GitHub\\research-pre-experiment\\Mammo\\outputs\\VX vs Outcomes\\All_XWalk_Outcome_cleaned.csv')\n"
     ]
    }
   ],
   "source": [
    "# Read the CSV file\n",
    "df = pd.read_csv(r'U:\\GitHub\\research-pre-experiment\\Mammo\\outputs\\VX vs Outcomes\\All_XWalk_Outcome_cleaned.csv')"
   ]
  },
  {
   "cell_type": "code",
   "execution_count": 3,
   "metadata": {},
   "outputs": [],
   "source": [
    "# Define the ethnicity mapping\n",
    "ethnicity_mapping = {\n",
    "    \"AP\": \"Aboriginal People\",\n",
    "    \"BL\": \"Black\",\n",
    "    \"BR\": \"British Isles\",\n",
    "    \"EA\": \"Asian - East and Southeast\",\n",
    "    \"EE\": \"Eastern European\",\n",
    "    \"FR\": \"French\",\n",
    "    \"NE\": \"Northern European\",\n",
    "    \"OT\": \"Other\",\n",
    "    \"R\": \"Refused To Answer\",\n",
    "    \"SA\": \"Asian - South\",\n",
    "    \"SE\": \"South European\",\n",
    "    \"U\": \"Unknown\",\n",
    "    \"WE\": \"Western European\"\n",
    "}\n"
   ]
  },
  {
   "cell_type": "code",
   "execution_count": 4,
   "metadata": {},
   "outputs": [],
   "source": [
    "# Map the short code to the descriptive label\n",
    "df['ethnicity'] = df['ethnicity'].map(ethnicity_mapping)\n",
    "\n",
    "# Convert 'screen_date' to datetime for proper sorting\n",
    "df['screen_date'] = pd.to_datetime(df['screen_date'])\n",
    "\n",
    "# 3. Sort by phn and screen_date\n",
    "df = df.sort_values(by=['phn', 'screen_date'])\n",
    "\n",
    "# 4. Assign a visit_id (1st visit = 1, 2nd visit = 2, etc.)\n",
    "df['visit_id'] = df.groupby('phn').cumcount() + 1"
   ]
  },
  {
   "cell_type": "code",
   "execution_count": 5,
   "metadata": {},
   "outputs": [],
   "source": [
    "# a) Total number of studies (rows) per ethnicity\n",
    "total_studies = df.groupby('ethnicity').size().rename('total_studies')\n",
    "\n",
    "# b) Number of unique patients per ethnicity\n",
    "unique_patients = df.groupby('ethnicity')['phn'].nunique().rename('unique_patients')\n",
    "\n",
    "# c) How many 1st, 2nd, 3rd, etc. visits per ethnicity\n",
    "#    First, group by (ethnicity, visit_id) and count rows\n",
    "visit_counts = df.groupby(['ethnicity', 'visit_id']).size().rename('count').reset_index()\n",
    "\n",
    "# Convert long format to a pivot table\n",
    "visits_pivot = visit_counts.pivot(index='ethnicity', columns='visit_id', values='count') \\\n",
    "                           .fillna(0).astype(int)"
   ]
  },
  {
   "cell_type": "code",
   "execution_count": 6,
   "metadata": {},
   "outputs": [
    {
     "name": "stdout",
     "output_type": "stream",
     "text": [
      "                     ethnicity  total_studies  unique_patients  \\\n",
      "0            Aboriginal People           3336             2003   \n",
      "1   Asian - East and Southeast          92111            34760   \n",
      "2                Asian - South          15008             6178   \n",
      "3                        Black           1264              527   \n",
      "4                British Isles          85902            37744   \n",
      "5             Eastern European          21439             9354   \n",
      "6                       French           8842             3982   \n",
      "7            Northern European           8013             3682   \n",
      "8                        Other          20883             8719   \n",
      "9            Refused To Answer           1355              569   \n",
      "10              South European          12395             5062   \n",
      "11            Western European          16578             7592   \n",
      "\n",
      "    one_time_studies  two_time_studies  three_time_studies  4_time_studies  \\\n",
      "0               2003               888                 288              89   \n",
      "1              34760             26414               17866            7608   \n",
      "2               6178              4465                2775            1029   \n",
      "3                527               380                 226              88   \n",
      "4              37744             25442               13431            5519   \n",
      "5               9354              6474                3420            1327   \n",
      "6               3982              2650                1314             552   \n",
      "7               3682              2412                1154             443   \n",
      "8               8719              6224                3639            1426   \n",
      "9                569               399                 229             101   \n",
      "10              5062              3740                2217             843   \n",
      "11              7592              5022                2462             940   \n",
      "\n",
      "    5_time_studies  6_time_studies  7_time_studies  8_time_studies  \\\n",
      "0               40              22               6               0   \n",
      "1             2786            1589             708             186   \n",
      "2              318             162              56              12   \n",
      "3               24              13               4               1   \n",
      "4             2199            1066             365              77   \n",
      "5              501             246              97              14   \n",
      "6              213             101              26               3   \n",
      "7              186              92              32              10   \n",
      "8              509             258              88              11   \n",
      "9               29              20               8               0   \n",
      "10             292             162              63               8   \n",
      "11             339             157              58               7   \n",
      "\n",
      "    9_time_studies  10_time_studies  11_time_studies  12_time_studies  \\\n",
      "0                0                0                0                0   \n",
      "1               96               53               24               11   \n",
      "2                7                3                2                1   \n",
      "3                1                0                0                0   \n",
      "4               31               17                7                3   \n",
      "5                4                2                0                0   \n",
      "6                1                0                0                0   \n",
      "7                2                0                0                0   \n",
      "8                5                3                1                0   \n",
      "9                0                0                0                0   \n",
      "10               6                2                0                0   \n",
      "11               1                0                0                0   \n",
      "\n",
      "    13_time_studies  14_time_studies  15_time_studies  \n",
      "0                 0                0                0  \n",
      "1                 5                3                2  \n",
      "2                 0                0                0  \n",
      "3                 0                0                0  \n",
      "4                 1                0                0  \n",
      "5                 0                0                0  \n",
      "6                 0                0                0  \n",
      "7                 0                0                0  \n",
      "8                 0                0                0  \n",
      "9                 0                0                0  \n",
      "10                0                0                0  \n",
      "11                0                0                0  \n"
     ]
    }
   ],
   "source": [
    "# Rename the columns for clarity: 1 -> one_time_studies, 2 -> two_time_studies, etc.\n",
    "rename_dict = {}\n",
    "for c in visits_pivot.columns:\n",
    "    if c == 1:\n",
    "        rename_dict[c] = 'one_time_studies'\n",
    "    elif c == 2:\n",
    "        rename_dict[c] = 'two_time_studies'\n",
    "    elif c == 3:\n",
    "        rename_dict[c] = 'three_time_studies'\n",
    "    else:\n",
    "        rename_dict[c] = f'{c}_time_studies'\n",
    "visits_pivot = visits_pivot.rename(columns=rename_dict)\n",
    "\n",
    "# Combine everything into a final summary DataFrame\n",
    "summary = pd.concat([total_studies, unique_patients], axis=1)\n",
    "summary = summary.join(visits_pivot, on='ethnicity').fillna(0).reset_index()\n",
    "\n",
    "# Show the summary\n",
    "print(summary)"
   ]
  },
  {
   "cell_type": "code",
   "execution_count": 7,
   "metadata": {},
   "outputs": [
    {
     "name": "stdout",
     "output_type": "stream",
     "text": [
      "study_category                   ethnicity  1 studies  2 studies  3 studies  \\\n",
      "0                        Aboriginal People       1115        600        199   \n",
      "1               Asian - East and Southeast       8346       8548      10258   \n",
      "2                            Asian - South       1713       1690       1746   \n",
      "3                                    Black        147        154        138   \n",
      "4                            British Isles      12302      12011       7912   \n",
      "5                         Eastern European       2880       3054       2093   \n",
      "6                                   French       1332       1336        762   \n",
      "7                        Northern European       1270       1258        711   \n",
      "8                                    Other       2495       2585       2213   \n",
      "9                        Refused To Answer        170        170        128   \n",
      "10                          South European       1322       1523       1374   \n",
      "11                        Western European       2570       2560       1522   \n",
      "\n",
      "study_category  4 studies  5+ studies  \n",
      "0                      49          40  \n",
      "1                    4822        2786  \n",
      "2                     711         318  \n",
      "3                      64          24  \n",
      "4                    3320        2199  \n",
      "5                     826         501  \n",
      "6                     339         213  \n",
      "7                     257         186  \n",
      "8                     917         509  \n",
      "9                      72          29  \n",
      "10                    551         292  \n",
      "11                    601         339  \n"
     ]
    }
   ],
   "source": [
    "# Group by ethnicity and phn to count the total number of visits per patient\n",
    "patient_visit_counts = df.groupby(['ethnicity', 'phn']).size().reset_index(name='study_count')\n",
    "\n",
    "# Create a new column for study category (e.g., \"1 study\", \"2 studies\", ..., \"5+ studies\")\n",
    "def categorize_study_count(count):\n",
    "    if count >= 5:\n",
    "        return '5+ studies'\n",
    "    else:\n",
    "        return f'{count} studies'\n",
    "\n",
    "patient_visit_counts['study_category'] = patient_visit_counts['study_count'].apply(categorize_study_count)\n",
    "\n",
    "# Count the number of patients in each category per ethnicity\n",
    "study_category_summary = patient_visit_counts.groupby(['ethnicity', 'study_category']) \\\n",
    "    .size().rename('patient_count').reset_index()\n",
    "\n",
    "# Pivot the table for better readability\n",
    "study_category_pivot = study_category_summary.pivot(index='ethnicity', columns='study_category', values='patient_count') \\\n",
    "    .fillna(0).astype(int).reset_index()\n",
    "\n",
    "# Display the final summary\n",
    "print(study_category_pivot)"
   ]
  }
 ],
 "metadata": {
  "kernelspec": {
   "display_name": "base",
   "language": "python",
   "name": "python3"
  },
  "language_info": {
   "codemirror_mode": {
    "name": "ipython",
    "version": 3
   },
   "file_extension": ".py",
   "mimetype": "text/x-python",
   "name": "python",
   "nbconvert_exporter": "python",
   "pygments_lexer": "ipython3",
   "version": "3.12.7"
  }
 },
 "nbformat": 4,
 "nbformat_minor": 2
}
